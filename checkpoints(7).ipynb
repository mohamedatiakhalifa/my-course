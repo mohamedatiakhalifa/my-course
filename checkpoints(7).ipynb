{
  "nbformat": 4,
  "nbformat_minor": 0,
  "metadata": {
    "colab": {
      "name": "checkpoints(7).ipynb",
      "provenance": [],
      "toc_visible": true,
      "collapsed_sections": [],
      "authorship_tag": "ABX9TyPGoiE/g5J107amzozjrsP5",
      "include_colab_link": true
    },
    "kernelspec": {
      "name": "python3",
      "display_name": "Python 3"
    },
    "language_info": {
      "name": "python"
    }
  },
  "cells": [
    {
      "cell_type": "markdown",
      "metadata": {
        "id": "view-in-github",
        "colab_type": "text"
      },
      "source": [
        "<a href=\"https://colab.research.google.com/github/mohamedatiakhalifa/my-course/blob/main/checkpoints(7).ipynb\" target=\"_parent\"><img src=\"https://colab.research.google.com/assets/colab-badge.svg\" alt=\"Open In Colab\"/></a>"
      ]
    },
    {
      "cell_type": "code",
      "execution_count": 3,
      "metadata": {
        "colab": {
          "base_uri": "https://localhost:8080/"
        },
        "id": "Xnnj0Zr7FRSq",
        "outputId": "b8d41410-6446-4857-9d46-63611f2bd689"
      },
      "outputs": [
        {
          "output_type": "stream",
          "name": "stdout",
          "text": [
            "Enter Sale Amount: 5000\n",
            "Discount :  250.0\n",
            "Net Pay  :  4750.0\n"
          ]
        }
      ],
      "source": [
        "#7\n",
        "amt = int(input(\"Enter Sale Amount: \"))\n",
        "\n",
        "if(amt>0):\n",
        "    if amt<=5000:\n",
        "       disc = amt*0.05\n",
        "    elif amt<=15000:\n",
        "        disc=amt*0.12\n",
        "    elif amt<=25000:\n",
        "        disc=0.2 * amt\n",
        "    else:\n",
        "         disc=0.3 * amt\n",
        "\n",
        "    print(\"Discount : \",disc)\n",
        "    print(\"Net Pay  : \",amt-disc)\n",
        "else:\n",
        "    print(\"Invalid Amount\")\n"
      ]
    },
    {
      "cell_type": "code",
      "source": [
        "#6\n",
        "str1 = input(\"Please Enter your Own String : \")\n",
        "\n",
        "str2 = ''\n",
        "\n",
        "for i in range(len(str1)):\n",
        "    if(i % 2 == 0):\n",
        "        str2 = str2 + str1[i]\n",
        "        \n",
        "print(\"Original String :  \", str1)\n",
        "print(\"Final String :     \", str2)"
      ],
      "metadata": {
        "id": "1q96yqTuaVDA"
      },
      "execution_count": null,
      "outputs": []
    },
    {
      "cell_type": "code",
      "source": [
        "#5\n",
        "def factorial(n):\n",
        "    value = 1\n",
        "    for i in range(1, n+1):\n",
        "        value = value * i\n",
        "    return value\n",
        "\n",
        "number = int(input(\"Type a number: \"))\n",
        "print(factorial(number))"
      ],
      "metadata": {
        "id": "JYnuaTFWcWKV"
      },
      "execution_count": null,
      "outputs": []
    },
    {
      "cell_type": "code",
      "source": [
        "#5\n",
        "def factorial(n):\n",
        "    if n == 0:\n",
        "        return 1\n",
        "    else:\n",
        "        return n * factorial(n-1)\n",
        "n=int(input(\"Input a number to compute the factiorial : \"))\n",
        "print(factorial(n))"
      ],
      "metadata": {
        "id": "EUGk0e7gcljJ"
      },
      "execution_count": null,
      "outputs": []
    },
    {
      "cell_type": "code",
      "source": [
        "#4\n",
        "number=[]\n",
        "for x in range(2000, 3201):\n",
        "    if (x%7==0) and (x%5>0):\n",
        "        number.append(str(x))\n",
        "print (','.join(number))"
      ],
      "metadata": {
        "id": "eTwPHo46fBqu"
      },
      "execution_count": null,
      "outputs": []
    },
    {
      "cell_type": "code",
      "source": [
        "#3\n",
        "i=int(input(\"Enter a number:\"))\n",
        "num= (i+ ((i*10)+i) + ((i*100)+(i*10)+i))\n",
        "print(num)\n"
      ],
      "metadata": {
        "id": "c8V9Bkc-XxJ_"
      },
      "execution_count": null,
      "outputs": []
    },
    {
      "cell_type": "code",
      "source": [
        "\n",
        "#3\n",
        "n = input('n: ')\n",
        "s = 0\n",
        "for i in range(1, int(n) + 1):\n",
        "    s += int(n * i) # n is a string, multiplying with int results in replication\n",
        "\n",
        "print(s)"
      ],
      "metadata": {
        "colab": {
          "base_uri": "https://localhost:8080/"
        },
        "id": "NBAbXa2RgMw3",
        "outputId": "b8f88144-cb42-49d6-eea7-e43086b73dea"
      },
      "execution_count": 5,
      "outputs": [
        {
          "output_type": "stream",
          "name": "stdout",
          "text": [
            "n: 5\n",
            "61725\n"
          ]
        }
      ]
    },
    {
      "cell_type": "code",
      "source": [
        "#3\n",
        "a = int(input(\"Input an integer : \"))\n",
        "n1 = int( \"%s\" % a )\n",
        "n2 = int( \"%s%s\" % (a,a) )\n",
        "n3 = int( \"%s%s%s\" % (a,a,a) )\n",
        "print (n1+n2+n3)"
      ],
      "metadata": {
        "colab": {
          "base_uri": "https://localhost:8080/"
        },
        "id": "w6gT7-t3gq2O",
        "outputId": "11dc2c18-a145-4416-c380-a2e2cbb1c392"
      },
      "execution_count": 6,
      "outputs": [
        {
          "output_type": "stream",
          "name": "stdout",
          "text": [
            "Input an integer : 5\n",
            "615\n"
          ]
        }
      ]
    },
    {
      "cell_type": "code",
      "source": [
        "first_name = input('enter ur  first name ')\n",
        "last_name = input('enter ur  last name ')\n",
        "print(last_name,first_name)"
      ],
      "metadata": {
        "colab": {
          "base_uri": "https://localhost:8080/"
        },
        "id": "qLSwXOyVg5tC",
        "outputId": "f5442f69-b389-49ee-fcf2-2b36f4a92763"
      },
      "execution_count": 8,
      "outputs": [
        {
          "output_type": "stream",
          "name": "stdout",
          "text": [
            "enter ur  first name mohamed\n",
            "enter ur  last name atia\n",
            "atia mohamed\n"
          ]
        }
      ]
    }
  ]
}