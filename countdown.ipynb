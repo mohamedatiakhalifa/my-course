{
  "nbformat": 4,
  "nbformat_minor": 0,
  "metadata": {
    "colab": {
      "name": "countdown.ipynb",
      "provenance": []
    },
    "kernelspec": {
      "name": "python3",
      "display_name": "Python 3"
    },
    "language_info": {
      "name": "python"
    }
  },
  "cells": [
    {
      "cell_type": "code",
      "execution_count": 10,
      "metadata": {
        "colab": {
          "base_uri": "https://localhost:8080/"
        },
        "id": "lXqfaYzSXZMr",
        "outputId": "224755a3-70aa-439b-f9cd-18351fcf1787"
      },
      "outputs": [
        {
          "output_type": "stream",
          "name": "stdout",
          "text": [
            "Please enter the number of seconds : 5\n",
            " 00:01\n",
            "Fire in the hole!!\n"
          ]
        }
      ],
      "source": [
        "import time\n",
        "\n",
        "seconds = int(input(\"Please enter the number of seconds : \"))\n",
        "\n",
        "def countdown(t):\n",
        "    while t:\n",
        "        mins = t // 60\n",
        "        secs = t % 60\n",
        "        timeformat = '{:02d}:{:02d}'.format(mins, secs)\n",
        "        time.sleep(1)\n",
        "        print('\\r',timeformat,end=\"\")\n",
        "        t -= 1\n",
        "    print(\"\\nFire in the hole!!\")\n",
        "\n",
        "countdown(seconds)"
      ]
    },
    {
      "cell_type": "code",
      "source": [
        ""
      ],
      "metadata": {
        "id": "hicRdQNajeyc"
      },
      "execution_count": null,
      "outputs": []
    }
  ]
}