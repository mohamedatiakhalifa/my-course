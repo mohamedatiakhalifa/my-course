{
  "cells": [
    {
      "cell_type": "code",
      "source": [
        "def binary_search(sequence, item):\n",
        "    begin_index = 0\n",
        "    end_index = len(sequence) - 1\n",
        "\n",
        "    while begin_index <= end_index:\n",
        "        midpoint = begin_index + (end_index - begin_index) // 2\n",
        "        midpoint_value = sequence[midpoint]\n",
        "        if midpoint_value == item:\n",
        "            return midpoint\n",
        "\n",
        "        elif item < midpoint_value:\n",
        "            end_index = midpoint - 1\n",
        "\n",
        "        else:\n",
        "            begin_index = midpoint + 1\n",
        "\n",
        "    return \"False not found\"\n",
        "\n",
        "sequence_a = [1,2,3,5,8]\n",
        "item_a = 6\n",
        "sequence_b = [1,2,3,5,8]\n",
        "item_b = 5\n",
        "\n",
        "print(binary_search(sequence_a, item_a),\"\\n\")\n",
        "print(binary_search(sequence_b, item_b))\n",
        "\n"
      ],
      "metadata": {
        "id": "2vraf7F3JDPx"
      },
      "execution_count": null,
      "outputs": []
    },
    {
      "cell_type": "code",
      "source": [
        "def power(base,power):\n",
        "    counter = 1\n",
        "    while power > 0:\n",
        "        counter = counter * base\n",
        "        power = power - 1\n",
        "\n",
        "    return counter\n",
        "\n",
        "base = 3\n",
        "pwr = 6\n",
        "print(power(base,pwr))"
      ],
      "metadata": {
        "id": "rJHAFX9kJHky"
      },
      "execution_count": null,
      "outputs": []
    },
    {
      "cell_type": "code",
      "source": [
        "def bubble_sort(sequence):\n",
        "    length = len(sequence)-1\n",
        "    for j in range(length):\n",
        "      for i in range(0,length):\n",
        "        if sequence[i] > sequence[i+1]:\n",
        "          sequence[i] , sequence[i+1] = sequence[i+1] , sequence[i]\n",
        "    return sequence\n",
        "x =  [29,13,22,37,52,49,46,71,56]\n",
        "print(bubble_sort(x))"
      ],
      "metadata": {
        "colab": {
          "base_uri": "https://localhost:8080/"
        },
        "id": "ihaoOWyEJKcM",
        "outputId": "16792f53-fe51-4f9d-e2bf-ad25f6510cd3"
      },
      "execution_count": 26,
      "outputs": [
        {
          "output_type": "stream",
          "name": "stdout",
          "text": [
            "[13, 22, 29, 37, 46, 49, 52, 56, 71]\n"
          ]
        }
      ]
    },
    {
      "cell_type": "code",
      "source": [
        "def mergeSort(liss):\n",
        "    if len(liss) > 1:\n",
        "        mid = len(liss) // 2\n",
        "        left_list=liss[:mid]\n",
        "        right_list=liss[mid:]\n",
        "\n",
        "        mergeSort(left_list)\n",
        "        mergeSort(right_list)\n",
        "        i = 0\n",
        "        j = 0\n",
        "        k = 0\n",
        "        while i < len(left_list) and j < len(right_list):\n",
        "            if left_list[i] <= right_list[j]:\n",
        "                liss[k] = left_list[i]\n",
        "                i += 1\n",
        "            else:\n",
        "                liss[k] = right_list[j]\n",
        "                j += 1\n",
        "            k += 1\n",
        "\n",
        "\n",
        "        while i < len(left_list):\n",
        "            liss[k] = left_list[i]\n",
        "            i += 1\n",
        "            k += 1\n",
        "        while j < len(right_list):\n",
        "            liss[k] = right_list[j]\n",
        "            j += 1\n",
        "            k += 1\n",
        "myList = [29,13,22,37,52,49,46,71,56]\n",
        "mergeSort(myList)\n",
        "print(myList)"
      ],
      "metadata": {
        "id": "lHhMJUxaI5RB"
      },
      "execution_count": null,
      "outputs": []
    },
    {
      "cell_type": "code",
      "execution_count": 24,
      "metadata": {
        "id": "jwCfbu5agP3T",
        "colab": {
          "base_uri": "https://localhost:8080/"
        },
        "outputId": "c24b89f2-2f6a-42a8-9d28-63e5cd67d676"
      },
      "outputs": [
        {
          "output_type": "stream",
          "name": "stdout",
          "text": [
            "[13, 22, 29, 37, 46, 49, 52, 56, 71]\n"
          ]
        }
      ],
      "source": [
        "def quick_sort(sequence):\n",
        "    length = len(sequence)\n",
        "    if length <= 1:\n",
        "        return sequence\n",
        "    else :\n",
        "        pivot = sequence.pop()\n",
        "    items_greater = []\n",
        "    items_lower = []\n",
        "    for items in sequence:\n",
        "        if items > pivot:\n",
        "            items_greater.append(items)\n",
        "        else:\n",
        "            items_lower.append(items)\n",
        "    return quick_sort(items_lower) + [pivot] + quick_sort(items_greater)\n",
        "x = [29,13,22,37,52,49,46,71,56]\n",
        "print(quick_sort(x))"
      ]
    }
  ],
  "metadata": {
    "colab": {
      "name": "algorithsms.ipynb",
      "provenance": []
    },
    "kernelspec": {
      "display_name": "Python 3",
      "name": "python3"
    },
    "language_info": {
      "name": "python"
    }
  },
  "nbformat": 4,
  "nbformat_minor": 0
}