{
  "nbformat": 4,
  "nbformat_minor": 0,
  "metadata": {
    "colab": {
      "name": "flames.ipynb",
      "provenance": []
    },
    "kernelspec": {
      "name": "python3",
      "display_name": "Python 3"
    },
    "language_info": {
      "name": "python"
    }
  },
  "cells": [
    {
      "cell_type": "code",
      "source": [
        "def flames(n1,n2):\n",
        "    for i in n1:\n",
        "        for j in n2:\n",
        "            if i == j:\n",
        "                n1 = n1.replace(i,\"\",1)\n",
        "                n2 = n2.replace(j,\"\",1)\n",
        "    n3 = len(n1+n2)\n",
        "    return n3\n",
        "x = input(\"Please enter your name : \")\n",
        "y = input(\"Please enter second person's name : \")\n",
        "z = flames(x,y)\n",
        "if z >= 0:\n",
        "    flameslist = [\"Friends\", \"Lovers\", \"Affectionate\", \"Marriage\", \"Enemies\", \"siblings\"]\n",
        "    while len(flameslist) > 1:\n",
        "        count = z % len(flameslist)\n",
        "        split = count - 1\n",
        "        if split >= 0:\n",
        "            right = flameslist[split+1:]\n",
        "            left = flameslist[:split]\n",
        "            flameslist = right + left\n",
        "        else:\n",
        "            flameslist = flameslist[:len(flameslist)-1]\n",
        "    print(\"Your relationship with the second person is : \", flameslist[0])\n",
        "\n",
        "else:\n",
        "    print(\"enter other names\")"
      ],
      "metadata": {
        "colab": {
          "base_uri": "https://localhost:8080/"
        },
        "id": "tZhddI5TpVmi",
        "outputId": "3e77a897-c719-490a-9ce7-58e5d609d271"
      },
      "execution_count": 38,
      "outputs": [
        {
          "output_type": "stream",
          "name": "stdout",
          "text": [
            "Please enter your name : amr\n",
            "Please enter second person's name : mona\n",
            "Your relationship with the second person is :  Friends\n"
          ]
        }
      ]
    }
  ]
}