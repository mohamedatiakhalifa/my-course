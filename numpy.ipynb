{
  "nbformat": 4,
  "nbformat_minor": 0,
  "metadata": {
    "colab": {
      "name": "Untitled3.ipynb",
      "provenance": []
    },
    "kernelspec": {
      "name": "python3",
      "display_name": "Python 3"
    },
    "language_info": {
      "name": "python"
    }
  },
  "cells": [
    {
      "cell_type": "code",
      "execution_count": 8,
      "metadata": {
        "colab": {
          "base_uri": "https://localhost:8080/"
        },
        "id": "65ZgwfIrwt2i",
        "outputId": "2de4fee4-941d-4a37-a37b-0cbf6c566997"
      },
      "outputs": [
        {
          "output_type": "stream",
          "name": "stdout",
          "text": [
            "[[0, 1, 2], [3, 4, 5], [6, 7, 8]]\n"
          ]
        }
      ],
      "source": [
        "\n",
        "import numpy as np\n",
        "\n",
        "m=np.array(([0,1,2],[3,4,5],[6,7,8]))\n",
        "\n",
        "m = m.tolist()\n",
        "print(m)"
      ]
    },
    {
      "cell_type": "code",
      "source": [
        "\n",
        "m=np.array(([0,1,2],[3,4,5],[6,7,8]))\n",
        "print(np.trace[d])"
      ],
      "metadata": {
        "id": "MimK4kFewuZU"
      },
      "execution_count": null,
      "outputs": []
    },
    {
      "cell_type": "code",
      "source": [
        "\n",
        "m=np.array(([0,1,2],[3,4,5],[6,7,8]))\n",
        "print(h[h>3])"
      ],
      "metadata": {
        "id": "8j-XjJ_gxm-j"
      },
      "execution_count": null,
      "outputs": []
    },
    {
      "cell_type": "code",
      "source": [
        "\n",
        "m=np.array(([0,1,2],[3,4,5],[6,7,8]))\n",
        "\n",
        "z=np.array(([0,1,2],[3,4,5],[6,7,8]))\n",
        "c= m+z\n",
        "print (c)"
      ],
      "metadata": {
        "id": "6ufVPcZmx0gS"
      },
      "execution_count": null,
      "outputs": []
    },
    {
      "cell_type": "code",
      "source": [
        "\n",
        "m=np.array(([0,1,2],[3,4,5],[6,7,8]))\n",
        "g = f.mean()\n",
        "f =f-g\n",
        "print(f)"
      ],
      "metadata": {
        "id": "DeutVIVmyBSv"
      },
      "execution_count": null,
      "outputs": []
    }
  ]
}