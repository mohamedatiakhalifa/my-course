{
  "nbformat": 4,
  "nbformat_minor": 0,
  "metadata": {
    "colab": {
      "name": "checkpoints(7).ipynb",
      "provenance": [],
      "toc_visible": true,
      "collapsed_sections": [],
      "authorship_tag": "ABX9TyMLUPV3rHZjSoVwyDtfx1zt",
      "include_colab_link": true
    },
    "kernelspec": {
      "name": "python3",
      "display_name": "Python 3"
    },
    "language_info": {
      "name": "python"
    }
  },
  "cells": [
    {
      "cell_type": "markdown",
      "metadata": {
        "id": "view-in-github",
        "colab_type": "text"
      },
      "source": [
        "<a href=\"https://colab.research.google.com/github/mohamedatiakhalifa/my-course/blob/main/checkpoints(5).ipynb\" target=\"_parent\"><img src=\"https://colab.research.google.com/assets/colab-badge.svg\" alt=\"Open In Colab\"/></a>"
      ]
    },
    {
      "cell_type": "code",
      "source": [
        " list= [2, 3, 6]\n",
        " x =1\n",
        " for i in list:\n",
        "   x=x*i\n",
        "   print(x)\n"
      ],
      "metadata": {
        "colab": {
          "base_uri": "https://localhost:8080/"
        },
        "id": "EfTTqvQZ7a4K",
        "outputId": "0c03a67f-f0d8-4513-b1b4-b1f1933ac79a"
      },
      "execution_count": 1,
      "outputs": [
        {
          "output_type": "stream",
          "name": "stdout",
          "text": [
            "2\n",
            "6\n",
            "36\n"
          ]
        }
      ]
    },
    {
      "cell_type": "code",
      "source": [
        "x = [(2, 5), (1, 2), (4, 4), (2, 3), (2, 1)]\n",
        "print(sorted(x,key=lambda x:x[-1]))"
      ],
      "metadata": {
        "colab": {
          "base_uri": "https://localhost:8080/"
        },
        "id": "eAq-QSA28SuQ",
        "outputId": "3ae6e9a7-710e-4eba-a44c-24684b4b100f"
      },
      "execution_count": 3,
      "outputs": [
        {
          "output_type": "stream",
          "name": "stdout",
          "text": [
            "[(2, 1), (1, 2), (2, 3), (4, 4), (2, 5)]\n"
          ]
        }
      ]
    },
    {
      "cell_type": "code",
      "source": [
        "d1 = {'a':100,'b':200,'c':300}\n",
        "d2 = {'a':300,'b':200,'d':400}\n",
        "d3=dict(d1)\n",
        "d3.update(d2)\n",
        "for i,j in d1.items():\n",
        "  for h,l in d2.items():\n",
        "    if i==h:\n",
        "     d3[h]=j+l\n",
        "print(d3)"
      ],
      "metadata": {
        "colab": {
          "base_uri": "https://localhost:8080/"
        },
        "id": "FJMe7zyXNLmh",
        "outputId": "8c79f86b-06de-43c1-c513-17901a4d3970"
      },
      "execution_count": 5,
      "outputs": [
        {
          "output_type": "stream",
          "name": "stdout",
          "text": [
            "{'a': 400, 'b': 400, 'c': 300, 'd': 400}\n"
          ]
        }
      ]
    },
    {
      "cell_type": "code",
      "source": [
        "c = int(input())\n",
        "dc={}\n",
        "for i in range (1,c+1):\n",
        "  dc[i]=i*i\n",
        "print(dc)"
      ],
      "metadata": {
        "colab": {
          "base_uri": "https://localhost:8080/"
        },
        "id": "nkqDdnquOkmr",
        "outputId": "5fa2c982-74eb-4f6a-b429-0887d610b30b"
      },
      "execution_count": 7,
      "outputs": [
        {
          "output_type": "stream",
          "name": "stdout",
          "text": [
            "6\n",
            "{1: 1, 2: 4, 3: 9, 4: 16, 5: 25, 6: 36}\n"
          ]
        }
      ]
    },
    {
      "cell_type": "code",
      "source": [
        "list= [('item1', '12.20'), ('item2', '15.10'), ('item3', '24.5')]\n",
        "print( sorted(list, key=lambda x: float(x[1]), reverse=True))"
      ],
      "metadata": {
        "colab": {
          "base_uri": "https://localhost:8080/"
        },
        "id": "yxyDIPcHPzWf",
        "outputId": "4216856c-0204-412e-d202-94f1a7dbea41"
      },
      "execution_count": 8,
      "outputs": [
        {
          "output_type": "stream",
          "name": "stdout",
          "text": [
            "[('item3', '24.5'), ('item2', '15.10'), ('item1', '12.20')]\n"
          ]
        }
      ]
    }
  ]
}