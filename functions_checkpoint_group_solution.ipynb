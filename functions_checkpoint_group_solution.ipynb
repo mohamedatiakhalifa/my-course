{
  "nbformat": 4,
  "nbformat_minor": 0,
  "metadata": {
    "colab": {
      "name": "functions checkpoint group solution.ipynb",
      "provenance": []
    },
    "kernelspec": {
      "name": "python3",
      "display_name": "Python 3"
    },
    "language_info": {
      "name": "python"
    }
  },
  "cells": [
    {
      "cell_type": "code",
      "source": [
        "def max_three(a,b,c):\n",
        "  return max(a,b,c)\n",
        "\n",
        "print(max_three(13,15,40))"
      ],
      "metadata": {
        "colab": {
          "base_uri": "https://localhost:8080/"
        },
        "id": "xQpAGPhS85yZ",
        "outputId": "1b2c6c7d-e610-48c6-b8ad-4d47601fad08"
      },
      "execution_count": 1,
      "outputs": [
        {
          "output_type": "stream",
          "name": "stdout",
          "text": [
            "40\n"
          ]
        }
      ]
    },
    {
      "cell_type": "code",
      "source": [
        "def calculations(a,b):\n",
        "  y = a+b\n",
        "  x = a-b\n",
        "  return y,x\n",
        "print(calculations(40,10))"
      ],
      "metadata": {
        "colab": {
          "base_uri": "https://localhost:8080/"
        },
        "id": "vSGvIjsT9yte",
        "outputId": "d4099946-f4e8-44ac-8537-9ebb285068cf"
      },
      "execution_count": 2,
      "outputs": [
        {
          "output_type": "stream",
          "name": "stdout",
          "text": [
            "(50, 30)\n"
          ]
        }
      ]
    },
    {
      "cell_type": "code",
      "source": [
        "a = [1,2,3,4,5,6,7,8,9,10]\n",
        "even = []\n",
        "odd = []\n",
        "\n",
        "for i in range(len(a)):\n",
        "  if i % 2 == 0:\n",
        "    even.append(a[i])\n",
        "  else:\n",
        "    odd.append(a[i])\n",
        "\n",
        "def summ(x):\n",
        "  result = 0\n",
        "  for i in x:\n",
        "    result = result + i\n",
        "  return result\n",
        "\n",
        "def multi(x):\n",
        "  result = 1\n",
        "  for i in x:\n",
        "    result = result * i\n",
        "  return result\n",
        "\n",
        "print(\"the sum of even indexes is : \",summ(even),\"the multi of odd index is : \", multi(odd))\n"
      ],
      "metadata": {
        "colab": {
          "base_uri": "https://localhost:8080/"
        },
        "id": "TCV_z3FR-Wb8",
        "outputId": "af20096c-5961-4db3-b975-ceec1244228a"
      },
      "execution_count": 5,
      "outputs": [
        {
          "output_type": "stream",
          "name": "stdout",
          "text": [
            "the sum of even indexes is :  25 the multi of odd index is :  3840\n"
          ]
        }
      ]
    },
    {
      "cell_type": "code",
      "source": [
        "x = \"green-red-yellow-black-white\"\n",
        "y = x.split(\"-\")\n",
        "y.sort()\n",
        "print(\"-\".join(y))"
      ],
      "metadata": {
        "colab": {
          "base_uri": "https://localhost:8080/"
        },
        "id": "Yo4kkRdV_8TL",
        "outputId": "61ada0d2-545b-414a-82b6-05023e5f8d94"
      },
      "execution_count": 11,
      "outputs": [
        {
          "output_type": "stream",
          "name": "stdout",
          "text": [
            "black-green-red-white-yellow\n"
          ]
        }
      ]
    },
    {
      "cell_type": "code",
      "source": [
        "#Q =[(2 * 50 * D)/30]**0.5 \n",
        "x = input()\n",
        "#100,150,180\n",
        "y = x.split(\",\")\n",
        "#[\"100\",\"150\",\"180\"]\n",
        "value = []\n",
        "for d in y:\n",
        "  Q =((2 * 50 * int(d))/30)**0.5 \n",
        "  value.append(int(Q))\n",
        "print(value)\n",
        "\n",
        "\n",
        "\n"
      ],
      "metadata": {
        "colab": {
          "base_uri": "https://localhost:8080/"
        },
        "id": "0wBrTAVYGJWu",
        "outputId": "ec59ba1d-352f-48c0-cedc-8dad01be617c"
      },
      "execution_count": 18,
      "outputs": [
        {
          "output_type": "stream",
          "name": "stdout",
          "text": [
            "100,150,180\n",
            "[18, 22, 24]\n"
          ]
        }
      ]
    },
    {
      "cell_type": "code",
      "source": [
        ""
      ],
      "metadata": {
        "id": "npsdJ-SFKpaM"
      },
      "execution_count": 18,
      "outputs": []
    }
  ]
}