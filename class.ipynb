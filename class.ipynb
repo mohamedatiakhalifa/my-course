{
  "nbformat": 4,
  "nbformat_minor": 0,
  "metadata": {
    "colab": {
      "name": "Untitled2.ipynb",
      "provenance": [],
      "collapsed_sections": []
    },
    "kernelspec": {
      "name": "python3",
      "display_name": "Python 3"
    },
    "language_info": {
      "name": "python"
    }
  },
  "cells": [
    {
      "cell_type": "code",
      "execution_count": null,
      "metadata": {
        "id": "YpLiMfnQhO-h"
      },
      "outputs": [],
      "source": [
        "class Point3D(object):\n",
        "    def __init__(self, x, y, z):\n",
        "        self.x = x\n",
        "        self.y = y\n",
        "        self.z = z\n",
        "    def __repr__(self):\n",
        "        return \"(%d, %d, %d)\" % (self.x, self.y, self.z)\n",
        "        \n",
        "my_point = Point3D(1,2,3)\n",
        "\n",
        "print my_point"
      ]
    },
    {
      "cell_type": "code",
      "source": [
        "class Rectangle():\n",
        "    def __init__(self, l, w):\n",
        "        self.length = l\n",
        "        self.width  = w\n",
        "\n",
        "    def rectangle_area(self):\n",
        "        return self.length*self.width\n",
        "\n",
        "newRectangle = Rectangle(12, 10)\n",
        "print(newRectangle.rectangle_area())"
      ],
      "metadata": {
        "id": "ZoU63xj-hmjG"
      },
      "execution_count": null,
      "outputs": []
    },
    {
      "cell_type": "code",
      "source": [
        "class Bank_Account:\n",
        "    def __init__(self):\n",
        "        self.balance=0\n",
        "        print(\"Welcome to Deposit & Withdrawal Machine!\")\n",
        "        \n",
        "    def deposit(self):\n",
        "        amount=float(input(\"Enter amount to be deposited: \"))\n",
        "        self.balance += amount\n",
        "        print(\"Amount Deposited: \",amount)\n",
        "    def withdraw(self):\n",
        "        amount = float(input(\"Enter amount to withdraw: \"))\n",
        "        if self.balance>=amount:\n",
        "            self.balance-=amount\n",
        "            print(\"You withdraw: \",amount)\n",
        "        else:\n",
        "            print(\"Insufficient balance \")\n",
        "    def display(self):\n",
        "        print(\"Net Available Balance=\",self.balance)\n",
        "#creating an object of class\n",
        "s = Bank_Account()\n",
        "#calling functions with that class\n",
        "s.deposit()\n",
        "s.withdraw()\n",
        "s.display()"
      ],
      "metadata": {
        "id": "DP5eznROh6E-"
      },
      "execution_count": null,
      "outputs": []
    }
  ]
}